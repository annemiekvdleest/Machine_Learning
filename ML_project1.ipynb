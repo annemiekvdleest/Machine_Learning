{
  "nbformat": 4,
  "nbformat_minor": 0,
  "metadata": {
    "colab": {
      "name": "ML_project1.ipynb",
      "provenance": [],
      "authorship_tag": "ABX9TyOkDukduWrs5FXjIcmKaW3Z",
      "include_colab_link": true
    },
    "kernelspec": {
      "name": "python3",
      "display_name": "Python 3"
    },
    "language_info": {
      "name": "python"
    }
  },
  "cells": [
    {
      "cell_type": "markdown",
      "metadata": {
        "id": "view-in-github",
        "colab_type": "text"
      },
      "source": [
        "<a href=\"https://colab.research.google.com/github/annemiekvdleest/Machine_Learning/blob/main/ML_project1.ipynb\" target=\"_parent\"><img src=\"https://colab.research.google.com/assets/colab-badge.svg\" alt=\"Open In Colab\"/></a>"
      ]
    },
    {
      "cell_type": "markdown",
      "source": [
        "- look at the statistics of the data (df. describe or something)\n",
        "- are the data on the same scale (normalizations)\n",
        "- think about the model space H discussed in class\n",
        "- browse a bit for which model would work better for the attributes of the data given\n",
        "- the bias-variance tradeoff\n",
        "- how can we select the appropriate features\n",
        "- how best to deal with the nans. \n",
        "\n",
        "It's always a good idea to have a baseline like autoML then you know what scores you have to improve\n",
        "https://machinelearningmastery.com/automl-libraries-for-python/\n",
        "\n",
        "\n",
        "The goal of the Assignment is to predict customers engagement based on certain parameters/features.\n",
        "0 class means the deals has not started, 1 means in progress and 2 means done/closed "
      ],
      "metadata": {
        "id": "8Uzoj23wutMQ"
      }
    },
    {
      "cell_type": "markdown",
      "source": [
        "# Become one with the data\n",
        "- look at distribution and patterns\n",
        "- data imbalances and biases\n",
        "- How much variation is there and what form does it take? What variation is spurious and could be preprocessed out?\n",
        "- Does spatial position matter or do we want to average pool it out? How much does detail matter and how far could we afford to downsample the images? How noisy are the labels?\n",
        "- search/filter/sort by whatever you can think of (e.g. type of label, size of annotations, number of annotations, etc.) and visualize their distributions and the outliers along any axis"
      ],
      "metadata": {
        "id": "0oXRykxg01Xd"
      }
    },
    {
      "cell_type": "code",
      "source": [
        "#import\n",
        "import pandas as pd"
      ],
      "metadata": {
        "id": "LWDwHJ_wwAqF"
      },
      "execution_count": null,
      "outputs": []
    },
    {
      "cell_type": "code",
      "execution_count": null,
      "metadata": {
        "colab": {
          "base_uri": "https://localhost:8080/"
        },
        "id": "h3jywQwMte9l",
        "outputId": "85893edc-88eb-4e16-acd6-51b6168b0c39"
      },
      "outputs": [
        {
          "output_type": "stream",
          "name": "stdout",
          "text": [
            "           opportunity_id  current_date_day  current_date_month  \\\n",
            "0       15427464874523186                 2                  11   \n",
            "1       15427464874523186                 9                  11   \n",
            "2       53852196172413351                11                  10   \n",
            "3       63848905825323247                25                   7   \n",
            "4       63848905825323247                 1                   8   \n",
            "...                   ...               ...                 ...   \n",
            "1588  9186677120757296287                22                  11   \n",
            "1589  9186677120757296287                29                  11   \n",
            "1590  9186677120757296287                 6                  12   \n",
            "1591  9188987770029297576                 1                   7   \n",
            "1592  9207329380392407700                 4                  11   \n",
            "\n",
            "      current_date_year  TOPICS__mean_calls_Integration__from_opp_creation  \\\n",
            "0                  2021                                                NaN   \n",
            "1                  2021                                                NaN   \n",
            "2                  2021                                                NaN   \n",
            "3                  2021                                                NaN   \n",
            "4                  2021                                                NaN   \n",
            "...                 ...                                                ...   \n",
            "1588               2021                                                NaN   \n",
            "1589               2021                                                NaN   \n",
            "1590               2021                                                NaN   \n",
            "1591               2021                                                NaN   \n",
            "1592               2021                                                NaN   \n",
            "\n",
            "      TOPICS__min_calls_Library__last_28_days  \\\n",
            "0                                         NaN   \n",
            "1                                         NaN   \n",
            "2                                         NaN   \n",
            "3                                         NaN   \n",
            "4                                         NaN   \n",
            "...                                       ...   \n",
            "1588                                    37.99   \n",
            "1589                                    37.99   \n",
            "1590                                    37.99   \n",
            "1591                                      NaN   \n",
            "1592                                     0.03   \n",
            "\n",
            "      QUESTIONS__std_num_of_questions_in_calls_by_customer__last_7_days  \\\n",
            "0                                              0.000000                   \n",
            "1                                              0.000000                   \n",
            "2                                              0.000000                   \n",
            "3                                              0.000000                   \n",
            "4                                              6.128259                   \n",
            "...                                                 ...                   \n",
            "1588                                           0.000000                   \n",
            "1589                                           0.000000                   \n",
            "1590                                           0.000000                   \n",
            "1591                                           0.000000                   \n",
            "1592                                           3.000000                   \n",
            "\n",
            "      TOPICS__min_calls_Collaboration__from_current_stage_start  \\\n",
            "0                                                   NaN           \n",
            "1                                                   NaN           \n",
            "2                                                   NaN           \n",
            "3                                                   NaN           \n",
            "4                                                   NaN           \n",
            "...                                                 ...           \n",
            "1588                                              37.99           \n",
            "1589                                              37.99           \n",
            "1590                                              37.99           \n",
            "1591                                                NaN           \n",
            "1592                                               0.03           \n",
            "\n",
            "      TOPICS__std_calls_Integrations__last_7_days  \\\n",
            "0                                             NaN   \n",
            "1                                             NaN   \n",
            "2                                             NaN   \n",
            "3                                             NaN   \n",
            "4                                      283.769836   \n",
            "...                                           ...   \n",
            "1588                                   152.677213   \n",
            "1589                                          NaN   \n",
            "1590                                          NaN   \n",
            "1591                                   762.964781   \n",
            "1592                                   867.064575   \n",
            "\n",
            "      TOPICS__min_calls_Evaluation_Process__from_current_stage_start  ...  \\\n",
            "0                                                   NaN               ...   \n",
            "1                                                   NaN               ...   \n",
            "2                                                   NaN               ...   \n",
            "3                                               81.1167               ...   \n",
            "4                                                   NaN               ...   \n",
            "...                                                 ...               ...   \n",
            "1588                                            37.9900               ...   \n",
            "1589                                            37.9900               ...   \n",
            "1590                                            37.9900               ...   \n",
            "1591                                                NaN               ...   \n",
            "1592                                                NaN               ...   \n",
            "\n",
            "      forecast_category_at_time_of_weekstart_1_Commit  \\\n",
            "0                                                True   \n",
            "1                                                True   \n",
            "2                                                True   \n",
            "3                                                True   \n",
            "4                                                True   \n",
            "...                                               ...   \n",
            "1588                                             True   \n",
            "1589                                             True   \n",
            "1590                                             True   \n",
            "1591                                             True   \n",
            "1592                                             True   \n",
            "\n",
            "      forecast_category_at_time_of_weekstart_3_Best_Case  \\\n",
            "0                                                 False    \n",
            "1                                                 False    \n",
            "2                                                 False    \n",
            "3                                                  True    \n",
            "4                                                 False    \n",
            "...                                                 ...    \n",
            "1588                                              False    \n",
            "1589                                              False    \n",
            "1590                                              False    \n",
            "1591                                               True    \n",
            "1592                                              False    \n",
            "\n",
            "      forecast_category_at_time_of_weekstart_4_Pipeline  fc_transition  \\\n",
            "0                                                 False            0.0   \n",
            "1                                                 False            0.0   \n",
            "2                                                 False            0.0   \n",
            "3                                                 False            1.0   \n",
            "4                                                 False            0.0   \n",
            "...                                                 ...            ...   \n",
            "1588                                              False            0.0   \n",
            "1589                                              False            0.0   \n",
            "1590                                              False            0.0   \n",
            "1591                                              False           -3.0   \n",
            "1592                                              False            0.0   \n",
            "\n",
            "      opportunity_stage_at_time_of_weekstart_max  \\\n",
            "0                                           23.0   \n",
            "1                                           40.0   \n",
            "2                                           40.0   \n",
            "3                                           40.0   \n",
            "4                                           40.0   \n",
            "...                                          ...   \n",
            "1588                                        32.0   \n",
            "1589                                        32.0   \n",
            "1590                                        32.0   \n",
            "1591                                        34.0   \n",
            "1592                                        40.0   \n",
            "\n",
            "      opportunity_stage_at_time_of_weekstart_min  stage_transition  \\\n",
            "0                                           23.0               0.0   \n",
            "1                                           40.0              17.0   \n",
            "2                                           40.0               0.0   \n",
            "3                                           12.0              -5.0   \n",
            "4                                           40.0               0.0   \n",
            "...                                          ...               ...   \n",
            "1588                                        32.0               0.0   \n",
            "1589                                        32.0               0.0   \n",
            "1590                                        32.0               0.0   \n",
            "1591                                         0.0             -34.0   \n",
            "1592                                        40.0               0.0   \n",
            "\n",
            "      current_quarter  timetoclose  target  \n",
            "0                   4           28       2  \n",
            "1                   4           21       2  \n",
            "2                   4           11       2  \n",
            "3                   3            5       2  \n",
            "4                   3           -1       2  \n",
            "...               ...          ...     ...  \n",
            "1588                4           23       0  \n",
            "1589                4           14       0  \n",
            "1590                4            7       0  \n",
            "1591                3           30       0  \n",
            "1592                4           28       2  \n",
            "\n",
            "[1593 rows x 2651 columns]\n"
          ]
        }
      ],
      "source": [
        "df = pd.read_csv('train_data.csv')\n",
        "print(df)"
      ]
    },
    {
      "cell_type": "markdown",
      "source": [
        "# Set up the end-to-end training/evaluation skeleton + get dumb baselines\n",
        "- pick some simple model that you couldn’t possibly have screwed up somehow - e.g. a linear classifier, or a very tiny ConvNet\n",
        "- train it, visualize the losses, any other metrics (e.g. accuracy), model predictions, and perform a series of ablation experiments with explicit hypotheses along the way\n",
        "- check tips and tricks on website\n",
        "\n",
        "http://karpathy.github.io/2019/04/25/recipe/"
      ],
      "metadata": {
        "id": "9sR2FpCTzMbF"
      }
    },
    {
      "cell_type": "markdown",
      "source": [
        "# Overfit + Regularize\n",
        "- first get a model large enough that it can overfit (i.e. focus on training loss) and then regularize it appropriately (give up some training loss to improve the validation loss)\n",
        "- check tips and tricks on website"
      ],
      "metadata": {
        "id": "6r-o4aqOzo-V"
      }
    },
    {
      "cell_type": "markdown",
      "source": [
        "# Tune\n",
        "- random over grid search\n",
        "- hyper parameter optimization"
      ],
      "metadata": {
        "id": "tttVIS5M0Hxs"
      }
    },
    {
      "cell_type": "markdown",
      "source": [
        "# Squeeze out the juice \n",
        "- ensembles\n",
        "- leave it training"
      ],
      "metadata": {
        "id": "MtyOwXav0R_y"
      }
    }
  ]
}