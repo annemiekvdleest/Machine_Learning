{
  "nbformat": 4,
  "nbformat_minor": 0,
  "metadata": {
    "colab": {
      "name": "MachineLearning workgroup.ipynb",
      "provenance": [],
      "authorship_tag": "ABX9TyP/RxHbKhp5aJk89URo0XRS",
      "include_colab_link": true
    },
    "kernelspec": {
      "name": "python3",
      "display_name": "Python 3"
    },
    "language_info": {
      "name": "python"
    }
  },
  "cells": [
    {
      "cell_type": "markdown",
      "metadata": {
        "id": "view-in-github",
        "colab_type": "text"
      },
      "source": [
        "<a href=\"https://colab.research.google.com/github/annemiekvdleest/Machine_Learning/blob/main/MachineLearning_workgroup.ipynb\" target=\"_parent\"><img src=\"https://colab.research.google.com/assets/colab-badge.svg\" alt=\"Open In Colab\"/></a>"
      ]
    },
    {
      "cell_type": "code",
      "execution_count": 2,
      "metadata": {
        "colab": {
          "base_uri": "https://localhost:8080/"
        },
        "id": "X1bE81MKvC_q",
        "outputId": "56a59025-588a-4948-dd4d-701378c0ddc7"
      },
      "outputs": [
        {
          "output_type": "stream",
          "name": "stdout",
          "text": [
            "hello\n",
            "let's check if this works\n"
          ]
        }
      ],
      "source": [
        "print(\"hello\")\n",
        "\n",
        "# test test \n",
        "\n",
        "print(\"let's check if this works\")"
      ]
    }
  ]
}