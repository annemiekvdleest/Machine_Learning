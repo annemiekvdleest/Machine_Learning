{
  "nbformat": 4,
  "nbformat_minor": 0,
  "metadata": {
    "colab": {
      "name": "MachineLearning workgroup.ipynb",
      "provenance": [],
      "authorship_tag": "ABX9TyMIJqD8s8CBeyNNOWyuJbYq",
      "include_colab_link": true
    },
    "kernelspec": {
      "name": "python3",
      "display_name": "Python 3"
    },
    "language_info": {
      "name": "python"
    }
  },
  "cells": [
    {
      "cell_type": "markdown",
      "metadata": {
        "id": "view-in-github",
        "colab_type": "text"
      },
      "source": [
        "<a href=\"https://colab.research.google.com/github/annemiekvdleest/Machine_Learning/blob/main/MachineLearning_workgroup.ipynb\" target=\"_parent\"><img src=\"https://colab.research.google.com/assets/colab-badge.svg\" alt=\"Open In Colab\"/></a>"
      ]
    },
    {
      "cell_type": "code",
      "execution_count": null,
      "metadata": {
        "colab": {
          "base_uri": "https://localhost:8080/"
        },
        "id": "X1bE81MKvC_q",
        "outputId": "561428d1-0a7a-49cf-e00f-f626d0e807bb"
      },
      "outputs": [
        {
          "output_type": "stream",
          "name": "stdout",
          "text": [
            "Mounted at /content/drive\n",
            "Reinitialized existing Git repository in /content/drive/MyDrive/Test ML/.git/\n",
            "hello\n"
          ]
        }
      ],
      "source": [
        "from google.colab import drive\n",
        "drive.mount('/content/drive', force_remount=True)\n",
        "\n",
        "import os\n",
        "os.chdir(\"/content/drive/MyDrive/Test ML\")\n",
        "\n",
        "# !git clone https://github.com/annemiekvdleest/Machine_Learning.git\n",
        "# always put ! before git command; !git push\n",
        "\n",
        "!git init\n",
        "!git config --global user.email “annemiek.vanderleest@ru.nl”\n",
        "!git config --global user.name “annemiekvdleest”\n",
        "\n",
        "# !git add -A\n",
        "# !git commit -m 'commit'\n",
        "# !git remote add origin https://github.com/annemiekvdleest/Machine_Learning.git\n",
        "# !git branch -M main\n",
        "# !git push -u origin main\n",
        "\n",
        "print(\"hello\")\n",
        "\n",
        "# test test "
      ]
    }
  ]
}